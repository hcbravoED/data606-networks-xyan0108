{
 "cells": [
  {
   "cell_type": "markdown",
   "metadata": {},
   "source": [
    "## DATA606: Project 2\n",
    "## Network communities and clustering\n",
    "\n",
    "In this project we will exercise algorithms for network community analysis and clustering. Specifically, we will implement the Girvan-Newman community detection algorithm, and the k-mediods algorithm.\n",
    "\n",
    "**Note**: We will need the igraph package for this. To install use `conda install -c conda_forge igraph-python`\n",
    "\n",
    "Let's grab a toy network to try things out (this is the same network we used to illustrate the Girvan-Newman algorithm in lecture."
   ]
  },
  {
   "cell_type": "code",
   "execution_count": 1,
   "metadata": {},
   "outputs": [],
   "source": [
    "%load_ext autoreload\n",
    "%autoreload 2"
   ]
  },
  {
   "cell_type": "code",
   "execution_count": 2,
   "metadata": {},
   "outputs": [
    {
     "data": {
      "image/svg+xml": [
       "<?xml version=\"1.0\" encoding=\"UTF-8\"?>\n",
       "<svg xmlns=\"http://www.w3.org/2000/svg\" xmlns:xlink=\"http://www.w3.org/1999/xlink\" width=\"200pt\" height=\"200pt\" viewBox=\"0 0 200 200\" version=\"1.1\">\n",
       "<defs>\n",
       "<g>\n",
       "<symbol overflow=\"visible\" id=\"glyph0-0\">\n",
       "<path style=\"stroke:none;\" d=\"M 1.75 0 L 1.75 -8.75 L 8.75 -8.75 L 8.75 0 Z M 1.96875 -0.21875 L 8.53125 -0.21875 L 8.53125 -8.53125 L 1.96875 -8.53125 Z M 1.96875 -0.21875 \"/>\n",
       "</symbol>\n",
       "<symbol overflow=\"visible\" id=\"glyph0-1\">\n",
       "<path style=\"stroke:none;\" d=\"M -0.0195313 0 L 3.828125 -10.023438 L 5.257813 -10.023438 L 9.359375 0 L 7.847656 0 L 6.679688 -3.035156 L 2.488281 -3.035156 L 1.386719 0 Z M 2.871094 -4.117188 L 6.269531 -4.117188 L 5.222656 -6.890625 C 4.898438 -7.734375 4.664063 -8.425781 4.511719 -8.96875 C 4.382813 -8.324219 4.203125 -7.6875 3.972656 -7.054688 Z M 2.871094 -4.117188 \"/>\n",
       "</symbol>\n",
       "<symbol overflow=\"visible\" id=\"glyph0-2\">\n",
       "<path style=\"stroke:none;\" d=\"M 1.023438 0 L 1.023438 -10.023438 L 4.785156 -10.023438 C 5.546875 -10.019531 6.160156 -9.917969 6.625 -9.71875 C 7.085938 -9.511719 7.449219 -9.199219 7.714844 -8.78125 C 7.976563 -8.355469 8.109375 -7.914063 8.109375 -7.457031 C 8.109375 -7.027344 7.992188 -6.625 7.757813 -6.246094 C 7.523438 -5.867188 7.171875 -5.5625 6.707031 -5.332031 C 7.3125 -5.152344 7.777344 -4.847656 8.105469 -4.421875 C 8.425781 -3.992188 8.589844 -3.488281 8.59375 -2.90625 C 8.589844 -2.4375 8.492188 -2 8.296875 -1.597656 C 8.097656 -1.191406 7.851563 -0.878906 7.5625 -0.664063 C 7.269531 -0.441406 6.902344 -0.277344 6.464844 -0.167969 C 6.019531 -0.0546875 5.480469 0 4.847656 0 Z M 2.351563 -5.8125 L 4.519531 -5.8125 C 5.101563 -5.8125 5.523438 -5.847656 5.78125 -5.925781 C 6.117188 -6.023438 6.371094 -6.191406 6.542969 -6.425781 C 6.710938 -6.65625 6.796875 -6.949219 6.800781 -7.300781 C 6.796875 -7.632813 6.71875 -7.925781 6.5625 -8.179688 C 6.402344 -8.429688 6.171875 -8.601563 5.878906 -8.699219 C 5.578125 -8.789063 5.070313 -8.835938 4.355469 -8.839844 L 2.351563 -8.839844 Z M 2.351563 -1.183594 L 4.847656 -1.183594 C 5.269531 -1.183594 5.570313 -1.199219 5.75 -1.230469 C 6.050781 -1.285156 6.304688 -1.375 6.511719 -1.503906 C 6.714844 -1.628906 6.886719 -1.8125 7.019531 -2.058594 C 7.152344 -2.300781 7.21875 -2.585938 7.21875 -2.90625 C 7.21875 -3.277344 7.121094 -3.601563 6.929688 -3.878906 C 6.738281 -4.152344 6.472656 -4.34375 6.132813 -4.460938 C 5.792969 -4.570313 5.304688 -4.628906 4.667969 -4.628906 L 2.351563 -4.628906 Z M 2.351563 -1.183594 \"/>\n",
       "</symbol>\n",
       "<symbol overflow=\"visible\" id=\"glyph0-3\">\n",
       "<path style=\"stroke:none;\" d=\"M 8.230469 -3.515625 L 9.554688 -3.179688 C 9.277344 -2.089844 8.777344 -1.257813 8.054688 -0.6875 C 7.332031 -0.113281 6.449219 0.167969 5.40625 0.171875 C 4.324219 0.167969 3.445313 -0.046875 2.773438 -0.488281 C 2.09375 -0.925781 1.578125 -1.5625 1.226563 -2.398438 C 0.867188 -3.226563 0.691406 -4.125 0.695313 -5.085938 C 0.691406 -6.128906 0.890625 -7.039063 1.292969 -7.816406 C 1.691406 -8.59375 2.257813 -9.183594 2.996094 -9.585938 C 3.730469 -9.988281 4.542969 -10.1875 5.429688 -10.191406 C 6.425781 -10.1875 7.269531 -9.933594 7.957031 -9.425781 C 8.640625 -8.914063 9.117188 -8.195313 9.386719 -7.273438 L 8.078125 -6.964844 C 7.84375 -7.691406 7.507813 -8.222656 7.066406 -8.558594 C 6.625 -8.890625 6.066406 -9.058594 5.398438 -9.058594 C 4.625 -9.058594 3.984375 -8.871094 3.46875 -8.503906 C 2.953125 -8.128906 2.589844 -7.632813 2.378906 -7.015625 C 2.167969 -6.390625 2.0625 -5.75 2.0625 -5.09375 C 2.0625 -4.234375 2.183594 -3.492188 2.433594 -2.859375 C 2.679688 -2.222656 3.066406 -1.746094 3.59375 -1.433594 C 4.117188 -1.117188 4.6875 -0.960938 5.296875 -0.964844 C 6.039063 -0.960938 6.667969 -1.175781 7.183594 -1.605469 C 7.699219 -2.035156 8.046875 -2.671875 8.230469 -3.515625 Z M 8.230469 -3.515625 \"/>\n",
       "</symbol>\n",
       "<symbol overflow=\"visible\" id=\"glyph0-4\">\n",
       "<path style=\"stroke:none;\" d=\"M 1.078125 0 L 1.078125 -10.023438 L 4.53125 -10.023438 C 5.308594 -10.019531 5.90625 -9.972656 6.316406 -9.878906 C 6.890625 -9.746094 7.378906 -9.503906 7.785156 -9.160156 C 8.3125 -8.710938 8.707031 -8.140625 8.972656 -7.449219 C 9.230469 -6.75 9.363281 -5.957031 9.367188 -5.066406 C 9.363281 -4.300781 9.273438 -3.625 9.097656 -3.039063 C 8.917969 -2.449219 8.691406 -1.964844 8.414063 -1.582031 C 8.136719 -1.195313 7.832031 -0.890625 7.503906 -0.671875 C 7.171875 -0.449219 6.773438 -0.28125 6.304688 -0.171875 C 5.835938 -0.0546875 5.296875 0 4.695313 0 Z M 2.40625 -1.183594 L 4.546875 -1.183594 C 5.207031 -1.183594 5.722656 -1.242188 6.101563 -1.367188 C 6.472656 -1.484375 6.773438 -1.660156 7 -1.886719 C 7.3125 -2.199219 7.558594 -2.621094 7.734375 -3.15625 C 7.910156 -3.683594 7.996094 -4.328125 8 -5.085938 C 7.996094 -6.132813 7.824219 -6.9375 7.480469 -7.5 C 7.132813 -8.0625 6.714844 -8.4375 6.226563 -8.632813 C 5.871094 -8.765625 5.300781 -8.835938 4.511719 -8.839844 L 2.40625 -8.839844 Z M 2.40625 -1.183594 \"/>\n",
       "</symbol>\n",
       "<symbol overflow=\"visible\" id=\"glyph0-5\">\n",
       "<path style=\"stroke:none;\" d=\"M 1.109375 0 L 1.109375 -10.023438 L 8.351563 -10.023438 L 8.351563 -8.839844 L 2.433594 -8.839844 L 2.433594 -5.769531 L 7.976563 -5.769531 L 7.976563 -4.59375 L 2.433594 -4.59375 L 2.433594 -1.183594 L 8.585938 -1.183594 L 8.585938 0 Z M 1.109375 0 \"/>\n",
       "</symbol>\n",
       "<symbol overflow=\"visible\" id=\"glyph0-6\">\n",
       "<path style=\"stroke:none;\" d=\"M 1.148438 0 L 1.148438 -10.023438 L 7.910156 -10.023438 L 7.910156 -8.839844 L 2.476563 -8.839844 L 2.476563 -5.734375 L 7.179688 -5.734375 L 7.179688 -4.554688 L 2.476563 -4.554688 L 2.476563 0 Z M 1.148438 0 \"/>\n",
       "</symbol>\n",
       "<symbol overflow=\"visible\" id=\"glyph0-7\">\n",
       "<path style=\"stroke:none;\" d=\"M 5.769531 -3.929688 L 5.769531 -5.105469 L 10.015625 -5.113281 L 10.015625 -1.394531 C 9.359375 -0.875 8.6875 -0.484375 8 -0.222656 C 7.304688 0.0390625 6.59375 0.167969 5.867188 0.171875 C 4.878906 0.167969 3.984375 -0.0390625 3.183594 -0.460938 C 2.375 -0.878906 1.769531 -1.488281 1.359375 -2.289063 C 0.949219 -3.082031 0.742188 -3.972656 0.746094 -4.960938 C 0.742188 -5.933594 0.945313 -6.84375 1.355469 -7.691406 C 1.761719 -8.535156 2.351563 -9.164063 3.117188 -9.574219 C 3.882813 -9.984375 4.761719 -10.1875 5.761719 -10.191406 C 6.484375 -10.1875 7.140625 -10.070313 7.726563 -9.839844 C 8.308594 -9.601563 8.769531 -9.277344 9.105469 -8.859375 C 9.4375 -8.4375 9.6875 -7.890625 9.863281 -7.21875 L 8.667969 -6.890625 C 8.511719 -7.398438 8.324219 -7.796875 8.105469 -8.09375 C 7.878906 -8.382813 7.5625 -8.617188 7.148438 -8.792969 C 6.734375 -8.96875 6.273438 -9.058594 5.769531 -9.058594 C 5.160156 -9.058594 4.636719 -8.964844 4.195313 -8.78125 C 3.753906 -8.59375 3.394531 -8.351563 3.125 -8.050781 C 2.851563 -7.75 2.644531 -7.417969 2.496094 -7.0625 C 2.238281 -6.4375 2.109375 -5.765625 2.113281 -5.046875 C 2.109375 -4.148438 2.261719 -3.402344 2.574219 -2.800781 C 2.878906 -2.199219 3.328125 -1.75 3.914063 -1.460938 C 4.5 -1.164063 5.125 -1.019531 5.789063 -1.023438 C 6.363281 -1.019531 6.921875 -1.128906 7.472656 -1.355469 C 8.015625 -1.574219 8.429688 -1.8125 8.714844 -2.0625 L 8.714844 -3.929688 Z M 5.769531 -3.929688 \"/>\n",
       "</symbol>\n",
       "</g>\n",
       "</defs>\n",
       "<g id=\"surface2\">\n",
       "<rect x=\"0\" y=\"0\" width=\"200\" height=\"200\" style=\"fill:rgb(100%,100%,100%);fill-opacity:1;stroke:none;\"/>\n",
       "<path style=\"fill:none;stroke-width:1;stroke-linecap:butt;stroke-linejoin:miter;stroke:rgb(26.666667%,26.666667%,26.666667%);stroke-opacity:1;stroke-miterlimit:10;\" d=\"M 180 157.304688 L 119.203125 127.875 \"/>\n",
       "<path style=\"fill:none;stroke-width:1;stroke-linecap:butt;stroke-linejoin:miter;stroke:rgb(26.666667%,26.666667%,26.666667%);stroke-opacity:1;stroke-miterlimit:10;\" d=\"M 180 157.304688 L 117.472656 180 \"/>\n",
       "<path style=\"fill:none;stroke-width:1;stroke-linecap:butt;stroke-linejoin:miter;stroke:rgb(26.666667%,26.666667%,26.666667%);stroke-opacity:1;stroke-miterlimit:10;\" d=\"M 119.203125 127.875 L 117.472656 180 \"/>\n",
       "<path style=\"fill:none;stroke-width:1;stroke-linecap:butt;stroke-linejoin:miter;stroke:rgb(26.666667%,26.666667%,26.666667%);stroke-opacity:1;stroke-miterlimit:10;\" d=\"M 119.203125 127.875 L 82.878906 80.285156 \"/>\n",
       "<path style=\"fill:none;stroke-width:1;stroke-linecap:butt;stroke-linejoin:miter;stroke:rgb(26.666667%,26.666667%,26.666667%);stroke-opacity:1;stroke-miterlimit:10;\" d=\"M 82.878906 80.285156 L 20 65.773438 \"/>\n",
       "<path style=\"fill:none;stroke-width:1;stroke-linecap:butt;stroke-linejoin:miter;stroke:rgb(26.666667%,26.666667%,26.666667%);stroke-opacity:1;stroke-miterlimit:10;\" d=\"M 82.878906 80.285156 L 58.460938 20 \"/>\n",
       "<path style=\"fill:none;stroke-width:1;stroke-linecap:butt;stroke-linejoin:miter;stroke:rgb(26.666667%,26.666667%,26.666667%);stroke-opacity:1;stroke-miterlimit:10;\" d=\"M 82.878906 80.285156 L 102.8125 39.058594 \"/>\n",
       "<path style=\"fill:none;stroke-width:1;stroke-linecap:butt;stroke-linejoin:miter;stroke:rgb(26.666667%,26.666667%,26.666667%);stroke-opacity:1;stroke-miterlimit:10;\" d=\"M 20 65.773438 L 102.8125 39.058594 \"/>\n",
       "<path style=\"fill:none;stroke-width:1;stroke-linecap:butt;stroke-linejoin:miter;stroke:rgb(26.666667%,26.666667%,26.666667%);stroke-opacity:1;stroke-miterlimit:10;\" d=\"M 58.460938 20 L 102.8125 39.058594 \"/>\n",
       "<path style=\"fill-rule:nonzero;fill:rgb(100%,0%,0%);fill-opacity:1;stroke-width:1;stroke-linecap:butt;stroke-linejoin:miter;stroke:rgb(0%,0%,0%);stroke-opacity:1;stroke-miterlimit:10;\" d=\"M 190 157.304688 C 190 162.828125 185.523438 167.304688 180 167.304688 C 174.476563 167.304688 170 162.828125 170 157.304688 C 170 151.78125 174.476563 147.304688 180 147.304688 C 185.523438 147.304688 190 151.78125 190 157.304688 \"/>\n",
       "<path style=\"fill-rule:nonzero;fill:rgb(100%,0%,0%);fill-opacity:1;stroke-width:1;stroke-linecap:butt;stroke-linejoin:miter;stroke:rgb(0%,0%,0%);stroke-opacity:1;stroke-miterlimit:10;\" d=\"M 129.203125 127.875 C 129.203125 133.398438 124.726563 137.875 119.203125 137.875 C 113.683594 137.875 109.203125 133.398438 109.203125 127.875 C 109.203125 122.351563 113.683594 117.875 119.203125 117.875 C 124.726563 117.875 129.203125 122.351563 129.203125 127.875 \"/>\n",
       "<path style=\"fill-rule:nonzero;fill:rgb(100%,0%,0%);fill-opacity:1;stroke-width:1;stroke-linecap:butt;stroke-linejoin:miter;stroke:rgb(0%,0%,0%);stroke-opacity:1;stroke-miterlimit:10;\" d=\"M 127.472656 180 C 127.472656 185.523438 122.996094 190 117.472656 190 C 111.949219 190 107.472656 185.523438 107.472656 180 C 107.472656 174.476563 111.949219 170 117.472656 170 C 122.996094 170 127.472656 174.476563 127.472656 180 \"/>\n",
       "<path style=\"fill-rule:nonzero;fill:rgb(100%,0%,0%);fill-opacity:1;stroke-width:1;stroke-linecap:butt;stroke-linejoin:miter;stroke:rgb(0%,0%,0%);stroke-opacity:1;stroke-miterlimit:10;\" d=\"M 92.878906 80.285156 C 92.878906 85.808594 88.402344 90.285156 82.878906 90.285156 C 77.355469 90.285156 72.878906 85.808594 72.878906 80.285156 C 72.878906 74.761719 77.355469 70.285156 82.878906 70.285156 C 88.402344 70.285156 92.878906 74.761719 92.878906 80.285156 \"/>\n",
       "<path style=\"fill-rule:nonzero;fill:rgb(100%,0%,0%);fill-opacity:1;stroke-width:1;stroke-linecap:butt;stroke-linejoin:miter;stroke:rgb(0%,0%,0%);stroke-opacity:1;stroke-miterlimit:10;\" d=\"M 30 65.773438 C 30 71.296875 25.523438 75.773438 20 75.773438 C 14.476563 75.773438 10 71.296875 10 65.773438 C 10 60.25 14.476563 55.773438 20 55.773438 C 25.523438 55.773438 30 60.25 30 65.773438 \"/>\n",
       "<path style=\"fill-rule:nonzero;fill:rgb(100%,0%,0%);fill-opacity:1;stroke-width:1;stroke-linecap:butt;stroke-linejoin:miter;stroke:rgb(0%,0%,0%);stroke-opacity:1;stroke-miterlimit:10;\" d=\"M 68.460938 20 C 68.460938 25.523438 63.980469 30 58.460938 30 C 52.9375 30 48.460938 25.523438 48.460938 20 C 48.460938 14.476563 52.9375 10 58.460938 10 C 63.980469 10 68.460938 14.476563 68.460938 20 \"/>\n",
       "<path style=\"fill-rule:nonzero;fill:rgb(100%,0%,0%);fill-opacity:1;stroke-width:1;stroke-linecap:butt;stroke-linejoin:miter;stroke:rgb(0%,0%,0%);stroke-opacity:1;stroke-miterlimit:10;\" d=\"M 112.8125 39.058594 C 112.8125 44.582031 108.335938 49.058594 102.8125 49.058594 C 97.289063 49.058594 92.8125 44.582031 92.8125 39.058594 C 92.8125 33.535156 97.289063 29.058594 102.8125 29.058594 C 108.335938 29.058594 112.8125 33.535156 112.8125 39.058594 \"/>\n",
       "<g style=\"fill:rgb(0%,0%,0%);fill-opacity:1;\">\n",
       "  <use xlink:href=\"#glyph0-1\" x=\"175.332031\" y=\"163.8125\"/>\n",
       "</g>\n",
       "<g style=\"fill:rgb(0%,0%,0%);fill-opacity:1;\">\n",
       "  <use xlink:href=\"#glyph0-2\" x=\"114.394531\" y=\"134.386719\"/>\n",
       "</g>\n",
       "<g style=\"fill:rgb(0%,0%,0%);fill-opacity:1;\">\n",
       "  <use xlink:href=\"#glyph0-3\" x=\"112.34375\" y=\"186.597656\"/>\n",
       "</g>\n",
       "<g style=\"fill:rgb(0%,0%,0%);fill-opacity:1;\">\n",
       "  <use xlink:href=\"#glyph0-4\" x=\"77.65625\" y=\"86.796875\"/>\n",
       "</g>\n",
       "<g style=\"fill:rgb(0%,0%,0%);fill-opacity:1;\">\n",
       "  <use xlink:href=\"#glyph0-5\" x=\"15.152344\" y=\"72.28125\"/>\n",
       "</g>\n",
       "<g style=\"fill:rgb(0%,0%,0%);fill-opacity:1;\">\n",
       "  <use xlink:href=\"#glyph0-6\" x=\"53.929688\" y=\"26.511719\"/>\n",
       "</g>\n",
       "<g style=\"fill:rgb(0%,0%,0%);fill-opacity:1;\">\n",
       "  <use xlink:href=\"#glyph0-7\" x=\"97.433594\" y=\"45.65625\"/>\n",
       "</g>\n",
       "</g>\n",
       "</svg>\n"
      ],
      "text/plain": [
       "<igraph.drawing.Plot at 0x1854fd60308>"
      ]
     },
     "execution_count": 2,
     "metadata": {
      "image/svg+xml": {
       "isolated": true
      }
     },
     "output_type": "execute_result"
    }
   ],
   "source": [
    "import numpy as np\n",
    "import igraph\n",
    "\n",
    "from networks_lib.toygraph import *\n",
    "\n",
    "toy_mat = get_toy_mat()\n",
    "plot_toy()"
   ]
  },
  {
   "cell_type": "code",
   "execution_count": 3,
   "metadata": {},
   "outputs": [
    {
     "data": {
      "text/plain": [
       "array([[0, 1, 1, 0, 0, 0, 0],\n",
       "       [1, 0, 1, 1, 0, 0, 0],\n",
       "       [1, 1, 0, 0, 0, 0, 0],\n",
       "       [0, 1, 0, 0, 1, 1, 1],\n",
       "       [0, 0, 0, 1, 0, 0, 1],\n",
       "       [0, 0, 0, 1, 0, 0, 1],\n",
       "       [0, 0, 0, 1, 1, 1, 0]])"
      ]
     },
     "execution_count": 3,
     "metadata": {},
     "output_type": "execute_result"
    }
   ],
   "source": [
    "# This is the adjacency matrix for the graph\n",
    "# rows and columns are in alphabetical order A-G\n",
    "toy_mat"
   ]
  },
  {
   "cell_type": "markdown",
   "metadata": {},
   "source": [
    "### Part A: Warm-up \n",
    "\n",
    "**Problem 1** What is the degree of each node in the graph?\n",
    "\n",
    "**TODO**: Fill this in A: 2, B: 3, C: 2, D: 4, E: 2, F: 2, G: 3\n",
    "\n",
    "**Problem 2** Compute degrees from the adjacency matrix and compare to your answer"
   ]
  },
  {
   "cell_type": "code",
   "execution_count": 4,
   "metadata": {},
   "outputs": [],
   "source": [
    "## write out your answer to Problem 1\n",
    "toy_deg_answer = np.array([2, 3, 2, 4, 2, 2, 3])\n",
    "\n",
    "## compute the degrees from the adjacency matrix\n",
    "toy_deg = np.sum(toy_mat, axis = 0)\n",
    "\n",
    "## check this assertion passes\n",
    "assert(np.all(toy_deg_answer == toy_deg))"
   ]
  },
  {
   "cell_type": "markdown",
   "metadata": {},
   "source": [
    "**Problem 3** Use the adjacency matrix to find the neighbors of node F"
   ]
  },
  {
   "cell_type": "code",
   "execution_count": 5,
   "metadata": {},
   "outputs": [
    {
     "name": "stdout",
     "output_type": "stream",
     "text": [
      "[3 6]\n"
     ]
    }
   ],
   "source": [
    "## write out the neighbors of node F by hand (I gave you one of them)\n",
    "f_neighbors_answer = np.array([3, 6])\n",
    "\n",
    "## use the adjacency matrix to find the neighbors\n",
    "f_neighbors = np.where(toy_mat[5] > 0)[0]\n",
    "print (f_neighbors)\n",
    "\n",
    "## check this assertion passes\n",
    "assert(np.all(f_neighbors_answer == f_neighbors))"
   ]
  },
  {
   "cell_type": "markdown",
   "metadata": {},
   "source": [
    "### Part B: All pairwise-distances\n",
    "\n",
    "The distance between two nodes in the network is the length of the shortest path in the network. In this section we are going to use breadth-first-search to compute all pairwise distances.\n",
    "\n",
    "The algorithm will roughly work as follows:\n",
    "\n",
    "<pre>\n",
    "Input: Adjacency matrix of size n by n  \n",
    "Output: Distance matrix `dist` of size n by n  \n",
    "    - For each vertex `u` in the network  \n",
    "    - Create boolean array `visited` of length n   \n",
    "    - Initialize all vertices u as `visited[u]=False`  \n",
    "    - Push tuple `(u, 0)` to a (first-in-first-out) queue `Q`  \n",
    "    - While `Q` is not empty:  \n",
    "        - Pop tuple `(v,d)` from the top of `Q`  \n",
    "        - Set `visited[v]=True`  \n",
    "        - Set distance `dist[u,v]=d`  \n",
    "        - For each neighbor `w` of `v`  \n",
    "            - if `visited[w]=False`, push tuple `(w, d+1)` to `Q` and set 'visited[w]=True'  \n",
    "</pre>\n",
    "\n",
    "In python you can use the [collections.deque](https://docs.python.org/2/library/collections.html#collections.deque) module to implement the FIFO queue. You can `append` (to the right) to push, and `popleft` to pop (from the left)."
   ]
  },
  {
   "cell_type": "markdown",
   "metadata": {},
   "source": [
    "**Problem 1** Implement and test the algorithm for all pairwise distances."
   ]
  },
  {
   "cell_type": "code",
   "execution_count": 6,
   "metadata": {},
   "outputs": [],
   "source": [
    "from networks_lib.distance import bfs_distance\n",
    "\n",
    "## Write out by hand the distance matrix for our toy graph\n",
    "## expected_dist[0:1,0:1] is correct below, fill in the rest\n",
    "expected_dist = np.array([[0,1,1,2,3,3,3],\n",
    "                          [1,0,1,1,2,2,2],\n",
    "                          [1,1,0,2,3,3,3],\n",
    "                          [2,1,2,0,1,1,1],\n",
    "                          [3,2,3,1,0,2,1],\n",
    "                          [3,2,3,1,2,0,1],\n",
    "                          [3,2,3,1,1,1,0]])\n",
    "                         \n",
    "## Implement your BFS all pairwise distance algorithm\n",
    "## Do so in the `networks_lib.distance` module\n",
    "toy_dist = bfs_distance(toy_mat)\n",
    "toy_dist\n",
    "\n",
    "## check this assertion is true\n",
    "assert(np.all(expected_dist == toy_dist))"
   ]
  },
  {
   "cell_type": "markdown",
   "metadata": {},
   "source": [
    "**Problem 2** Using distance to find graph components. Let's make a copy of the network adjacency matrix and remove edge `B-D`."
   ]
  },
  {
   "cell_type": "code",
   "execution_count": 7,
   "metadata": {},
   "outputs": [
    {
     "data": {
      "text/plain": [
       "array([[ 0.,  1.,  1., inf, inf, inf, inf],\n",
       "       [ 1.,  0.,  1., inf, inf, inf, inf],\n",
       "       [ 1.,  1.,  0., inf, inf, inf, inf],\n",
       "       [inf, inf, inf,  0.,  1.,  1.,  1.],\n",
       "       [inf, inf, inf,  1.,  0.,  2.,  1.],\n",
       "       [inf, inf, inf,  1.,  2.,  0.,  1.],\n",
       "       [inf, inf, inf,  1.,  1.,  1.,  0.]])"
      ]
     },
     "execution_count": 7,
     "metadata": {},
     "output_type": "execute_result"
    }
   ],
   "source": [
    "toy_copy = toy_mat.copy()\n",
    "toy_copy[1,3] = 0\n",
    "toy_copy[3,1] = 0\n",
    "toy_copy\n",
    "bfs_distance(toy_copy)"
   ]
  },
  {
   "cell_type": "markdown",
   "metadata": {},
   "source": [
    "The resulting network has two components (A,B,C) and (D,E,F,G). We can use a distance matrix to identify those components since any pair of nodes `u` and `v` for which `d(u,v)< np.inf` \n",
    "are reachable (means there is a path between `u` and `v`).\n",
    "\n",
    "The procedure will roughly be:\n",
    "\n",
    "<pre>\n",
    "- mark all vertices are `unused`\n",
    "- while any nodes are `unused`:\n",
    "  - choose any unused node `u`\n",
    "  - return `u` and all vertices `v` with `d(u,v) < np.inf` as a component and mark as used.\n",
    "</pre>"
   ]
  },
  {
   "cell_type": "code",
   "execution_count": 8,
   "metadata": {
    "scrolled": true
   },
   "outputs": [
    {
     "data": {
      "text/plain": [
       "[[0, 1, 2], [3, 4, 5, 6]]"
      ]
     },
     "execution_count": 8,
     "metadata": {},
     "output_type": "execute_result"
    }
   ],
   "source": [
    "from networks_lib.distance import get_components\n",
    "\n",
    "## these are the expected components for the new graph\n",
    "expected_components = [np.array([0,1,2]), np.array([3,4,5,6])]\n",
    "\n",
    "## implement the component finding function based on your distance matrix\n",
    "components = get_components(toy_copy)\n",
    "#components = [np.zeros(3), np.zeros(4)]\n",
    "\n",
    "## make this assertion pass\n",
    "assert(all([np.all(x == y) for (x,y) in zip(expected_components,components)]))\n",
    "\n",
    "components"
   ]
  },
  {
   "cell_type": "markdown",
   "metadata": {},
   "source": [
    "### Part C: Edge Betweeness\n",
    "\n",
    "In this section you will implement the edge betweenness algorithm described in book and lecture notes as part of the Girvan-Newman algorithm. \n",
    "\n",
    "**Problem 1** Implement the breadth-first algorithm to compute the number of shortest paths starting from a specific vertex going through each edge in the graph."
   ]
  },
  {
   "cell_type": "code",
   "execution_count": 9,
   "metadata": {
    "scrolled": true
   },
   "outputs": [],
   "source": [
    "from networks_lib.betweenness import edge_counts\n",
    "\n",
    "## Write out by hand a matrix containing the shortest path count starting from vertex E.\n",
    "## In the result matrix entry i,j has the count for the edge i-j in the graph.\n",
    "## This was shown as an example in lecture notes.\n",
    "##\n",
    "## expected_counts[0:1,0:1] is correct below, fill in the rest\n",
    "expected_counts = np.array([[0,1,0,0,0,0,0],\n",
    "                            [1,0,1,3,0,0,0],\n",
    "                            [0,1,0,0,0,0,0],\n",
    "                            [0,3,0,0,4.5,0.5,0],\n",
    "                            [0,0,0,4.5,0,0,1.5],\n",
    "                            [0,0,0,0.5,0,0,0.5],\n",
    "                            [0,0,0,0,1.5,0.5,0]])\n",
    "\n",
    "## implement the function edge_count \n",
    "counts = edge_counts(4, toy_mat)\n",
    "\n",
    "## make sure this assertion passes\n",
    "assert(np.all(counts == expected_counts))"
   ]
  },
  {
   "cell_type": "markdown",
   "metadata": {},
   "source": [
    "**Problem 2**: Confirm the edge betweenness function works properly by comparing result to\n",
    "igraph's computation"
   ]
  },
  {
   "cell_type": "code",
   "execution_count": 10,
   "metadata": {},
   "outputs": [],
   "source": [
    "from networks_lib.betweenness import edge_betweenness\n",
    "from networks_lib.toygraph import get_toy_graph\n",
    "\n",
    "## compute edge betweenness using igraph\n",
    "g = get_toy_graph()\n",
    "expected_betweenness = g.edge_betweenness()\n",
    "\n",
    "## after implementing the `edge_counts` function above\n",
    "toy_betweenness = edge_betweenness(toy_mat)\n",
    "toy_betweenness\n",
    "assert(np.all(expected_betweenness == np.triu(toy_betweenness)[np.where(np.triu(toy_mat)>0)]))"
   ]
  },
  {
   "cell_type": "markdown",
   "metadata": {},
   "source": [
    "### Part D: Girvan-Newman community finding\n",
    "\n",
    "Now we use all of the above to do community analysis on the graph.\n",
    "\n",
    "The procedure should be as follows\n",
    "\n",
    "<pre>\n",
    "Input: adjacency matrix, and number of communities K\n",
    "Output: array of community assignments\n",
    "\n",
    "set components = [ [all vertices] ]\n",
    "while number of components < K:\n",
    "    - compute edge betweenness (edge_betweenness)\n",
    "    - remove edge with highest edge betweenness\n",
    "    - find components in the graph (get_components)\n",
    "return an array with community assignments \n",
    "</pre>"
   ]
  },
  {
   "cell_type": "code",
   "execution_count": 11,
   "metadata": {},
   "outputs": [],
   "source": [
    "import igraph\n",
    "from networks_lib.toygraph import get_toy_graph\n",
    "from networks_lib.communities import girvan_newman\n",
    "\n",
    "## Let's use igraph to find 2 communities in the toy example\n",
    "g = get_toy_graph()\n",
    "expected_assignment = g.community_edge_betweenness(clusters=2).as_clustering().membership\n",
    "#print(expected_assignment)\n",
    "\n",
    "## Implement the girvan-newman algorithm\n",
    "assignment = girvan_newman(toy_mat, 2)\n",
    "\n",
    "## make this assertion pass\n",
    "assert(np.all(expected_assignment == np.array(assignment)))"
   ]
  },
  {
   "cell_type": "markdown",
   "metadata": {},
   "source": [
    "### Part E: K-mediods clustering\n",
    "\n",
    "Now we use K-mediods clustering on the graph distance matrix. We will build the algorithm in steps.\n",
    "\n",
    "**Problem 1**: Implement random initialization "
   ]
  },
  {
   "cell_type": "code",
   "execution_count": 12,
   "metadata": {},
   "outputs": [
    {
     "name": "stdout",
     "output_type": "stream",
     "text": [
      "[6 2]\n"
     ]
    }
   ],
   "source": [
    "from networks_lib.kmedioids import random_init\n",
    "from networks_lib.distance import bfs_distance\n",
    "\n",
    "toy_dist = bfs_distance(toy_mat)\n",
    "medioids = random_init(toy_dist, 2)\n",
    "#print(medioids)\n",
    "\n",
    "assert(len(medioids) == 2)"
   ]
  },
  {
   "cell_type": "markdown",
   "metadata": {},
   "source": [
    "**Problem 2**: Now let's implement the assignment function, given medioids, assign each vertex\n",
    "to the nearest medioid"
   ]
  },
  {
   "cell_type": "code",
   "execution_count": 13,
   "metadata": {},
   "outputs": [
    {
     "name": "stdout",
     "output_type": "stream",
     "text": [
      "[0 0 0 0 1 0 1]\n"
     ]
    }
   ],
   "source": [
    "from networks_lib.kmedioids import assign\n",
    "\n",
    "# suppose vertices 'B' and 'E' are chosen\n",
    "medioids = np.array([1, 4])\n",
    "\n",
    "# correct this assignment\n",
    "expected_assignment = np.array([0, 0, 0, 0, 1, 0, 1])\n",
    "\n",
    "# compute assignment\n",
    "assignment = assign(toy_dist, medioids)\n",
    "\n",
    "assert(np.all(expected_assignment == assignment))"
   ]
  },
  {
   "cell_type": "markdown",
   "metadata": {},
   "source": [
    "**Problem 3**: Now implement a function to determine medioids given an assignment"
   ]
  },
  {
   "cell_type": "code",
   "execution_count": 14,
   "metadata": {},
   "outputs": [
    {
     "name": "stdout",
     "output_type": "stream",
     "text": [
      "[0 3]\n"
     ]
    }
   ],
   "source": [
    "from networks_lib.kmedioids import get_medioids\n",
    "\n",
    "# In this case all but 'A' are assigned to one cluster\n",
    "assignment = np.array([0, 1, 1, 1, 1, 1, 1])\n",
    "\n",
    "# what would the medioids be in that case?\n",
    "expected_medioids = np.array([0, 3])\n",
    "\n",
    "# implement the get_medioids function\n",
    "medioids = get_medioids(toy_dist, assignment, 2)\n",
    "\n",
    "# make this assertion work\n",
    "assert(np.all(expected_medioids == medioids))"
   ]
  },
  {
   "cell_type": "markdown",
   "metadata": {},
   "source": [
    "**Problem 4**: Finish implementing k-medioids"
   ]
  },
  {
   "cell_type": "code",
   "execution_count": 15,
   "metadata": {},
   "outputs": [
    {
     "name": "stdout",
     "output_type": "stream",
     "text": [
      "[0 6]\n",
      "[0 0 0 1 1 1 1]\n",
      "[0 3]\n",
      "[0 0 0 1 1 1 1]\n",
      "[0 3]\n",
      "[0 0 0 1 1 1 1]\n"
     ]
    }
   ],
   "source": [
    "from networks_lib.kmedioids import kmedioids\n",
    "\n",
    "kmeds_assign = kmedioids(toy_dist, 2)\n",
    "kmeds_assign\n",
    "\n",
    "## make this assertion pass\n",
    "assert(np.all(kmeds_assign < 2))"
   ]
  }
 ],
 "metadata": {
  "kernelspec": {
   "display_name": "Python 3",
   "language": "python",
   "name": "python3"
  },
  "language_info": {
   "codemirror_mode": {
    "name": "ipython",
    "version": 3
   },
   "file_extension": ".py",
   "mimetype": "text/x-python",
   "name": "python",
   "nbconvert_exporter": "python",
   "pygments_lexer": "ipython3",
   "version": "3.7.4"
  }
 },
 "nbformat": 4,
 "nbformat_minor": 4
}
